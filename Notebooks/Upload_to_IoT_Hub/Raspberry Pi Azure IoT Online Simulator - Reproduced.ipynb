{
 "cells": [
  {
   "cell_type": "markdown",
   "metadata": {},
   "source": [
    "# Raspberry Pi Azure IoT Online Simulator"
   ]
  },
  {
   "cell_type": "markdown",
   "metadata": {},
   "source": [
    "This code is trying to reproduce this simulator: https://azure-samples.github.io/raspberry-pi-web-simulator/#GetStarted"
   ]
  },
  {
   "cell_type": "markdown",
   "metadata": {},
   "source": [
    "### Import Libaries"
   ]
  },
  {
   "cell_type": "code",
   "execution_count": 1,
   "metadata": {},
   "outputs": [],
   "source": [
    "import random\n",
    "import time\n",
    "import pandas as pd\n",
    "from azure.iot.device import IoTHubDeviceClient, Message\n",
    "from datetime import datetime, timezone"
   ]
  },
  {
   "cell_type": "markdown",
   "metadata": {},
   "source": [
    "### Create client for sending data"
   ]
  },
  {
   "cell_type": "code",
   "execution_count": 2,
   "metadata": {},
   "outputs": [],
   "source": [
    "client = IoTHubDeviceClient.create_from_connection_string('ENTER CONNECTION STRING')"
   ]
  },
  {
   "cell_type": "markdown",
   "metadata": {},
   "source": [
    "### Generate random data and send to IoT hub in \"real time\""
   ]
  },
  {
   "cell_type": "markdown",
   "metadata": {},
   "source": [
    "##### Create JSON tamplate for sending data"
   ]
  },
  {
   "cell_type": "code",
   "execution_count": 3,
   "metadata": {},
   "outputs": [],
   "source": [
    "MSG_TXT = '{{\"temperature_py\": {temperature_py},\"humidity_py\": {humidity_py}}}'"
   ]
  },
  {
   "cell_type": "markdown",
   "metadata": {},
   "source": [
    "##### Generate random data and send to IoT hub with client"
   ]
  },
  {
   "cell_type": "code",
   "execution_count": 4,
   "metadata": {},
   "outputs": [
    {
     "name": "stderr",
     "output_type": "stream",
     "text": [
      "failed to receive on socket: [WinError 10053] An established connection was aborted by the software in your host machine\n"
     ]
    }
   ],
   "source": [
    "TEMPERATURE_py = 10.0\n",
    "HUMIDITY_py = 30\n",
    "\n",
    "for n in range(50):\n",
    "    time.sleep(0.1)\n",
    "    temperature_py = TEMPERATURE_py + (random.random() * 15)\n",
    "    humidity_py = HUMIDITY_py + (random.random() * 20)\n",
    "    msg_txt_formatted = MSG_TXT.format(temperature_py=temperature_py, humidity_py=humidity_py)\n",
    "    message = Message(msg_txt_formatted)\n",
    "    client.send_message(message)"
   ]
  },
  {
   "cell_type": "code",
   "execution_count": 5,
   "metadata": {},
   "outputs": [
    {
     "name": "stdout",
     "output_type": "stream",
     "text": [
      "{\"temperature_py\": 14.807796840875731,\"humidity_py\": 48.4570542140697}\n"
     ]
    }
   ],
   "source": [
    "print(msg_txt_formatted)"
   ]
  },
  {
   "cell_type": "markdown",
   "metadata": {},
   "source": [
    "### Generate random histrical data and send to IoT hub"
   ]
  },
  {
   "cell_type": "markdown",
   "metadata": {},
   "source": [
    "##### Create JSON template for sending data"
   ]
  },
  {
   "cell_type": "code",
   "execution_count": 6,
   "metadata": {},
   "outputs": [],
   "source": [
    "MSG_TXT = '{{\"time\": \"{timestamp}\",\"tempish_py\": {temperature_py},\"humish_py\": {humidity_py}}}'"
   ]
  },
  {
   "cell_type": "code",
   "execution_count": 10,
   "metadata": {},
   "outputs": [
    {
     "name": "stdout",
     "output_type": "stream",
     "text": [
      "{\"time\": \"2014-06-24T03:30:18.300000Z\",\"tempish_py\": 10,\"humish_py\": 30}\n"
     ]
    }
   ],
   "source": [
    "value_init = 10.0\n",
    "\n",
    "n=3\n",
    "time.sleep(0.1)\n",
    "dt_now = datetime.now(tz=timezone.utc)\n",
    "dt_ts = datetime.fromtimestamp(1403580618.0+(0.1*n), tz=timezone.utc)\n",
    "timestamp=dt_ts.strftime(\"%Y-%m-%dT%H:%M:%S.%fZ\")\n",
    "messageId=str(n+1)\n",
    "\n",
    "temperature_py = 10\n",
    "humidity_py = 30\n",
    "\n",
    "msg_txt_formatted = MSG_TXT.format(timestamp=timestamp, temperature_py=temperature_py, humidity_py=humidity_py)\n",
    "message = Message(msg_txt_formatted)\n",
    "print(msg_txt_formatted)"
   ]
  },
  {
   "cell_type": "markdown",
   "metadata": {},
   "source": [
    "##### Generate random data and send to IoT hub with client"
   ]
  },
  {
   "cell_type": "code",
   "execution_count": 14,
   "metadata": {},
   "outputs": [
    {
     "ename": "TypeError",
     "evalue": "'NoneType' object is not callable",
     "output_type": "error",
     "traceback": [
      "\u001b[1;31m---------------------------------------------------------------------------\u001b[0m",
      "\u001b[1;31mTypeError\u001b[0m                                 Traceback (most recent call last)",
      "\u001b[1;32m<ipython-input-14-dd800dfaa68b>\u001b[0m in \u001b[0;36m<module>\u001b[1;34m\u001b[0m\n\u001b[1;32m----> 1\u001b[1;33m \u001b[0mmessage\u001b[0m\u001b[1;33m.\u001b[0m\u001b[0mcontent_encoding\u001b[0m\u001b[1;33m(\u001b[0m\u001b[1;33m)\u001b[0m\u001b[1;33m\u001b[0m\u001b[1;33m\u001b[0m\u001b[0m\n\u001b[0m",
      "\u001b[1;31mTypeError\u001b[0m: 'NoneType' object is not callable"
     ]
    }
   ],
   "source": [
    "message."
   ]
  },
  {
   "cell_type": "code",
   "execution_count": 11,
   "metadata": {},
   "outputs": [
    {
     "name": "stdout",
     "output_type": "stream",
     "text": [
      "{\"time\": \"2014-07-05T20:03:38.000000Z\",\"tempish_py\": 19.196383086074114,\"humish_py\": 38.63456016557417}\n",
      "{\"time\": \"2014-07-05T20:03:38.100000Z\",\"tempish_py\": 19.051581483141025,\"humish_py\": 36.11325552409649}\n",
      "{\"time\": \"2014-07-05T20:03:38.200000Z\",\"tempish_py\": 20.77258278485217,\"humish_py\": 37.29555250502447}\n",
      "{\"time\": \"2014-07-05T20:03:38.300000Z\",\"tempish_py\": 13.91870020304064,\"humish_py\": 31.684435000277354}\n",
      "{\"time\": \"2014-07-05T20:03:38.400000Z\",\"tempish_py\": 20.660121766615063,\"humish_py\": 47.64710704223931}\n",
      "{\"time\": \"2014-07-05T20:03:38.500000Z\",\"tempish_py\": 13.328238847459932,\"humish_py\": 45.91873612660685}\n",
      "{\"time\": \"2014-07-05T20:03:38.600000Z\",\"tempish_py\": 15.63918246928385,\"humish_py\": 36.63393328986728}\n",
      "{\"time\": \"2014-07-05T20:03:38.700000Z\",\"tempish_py\": 20.66454296293333,\"humish_py\": 37.132837590972855}\n",
      "{\"time\": \"2014-07-05T20:03:38.800000Z\",\"tempish_py\": 16.37598413507824,\"humish_py\": 37.6376857755968}\n",
      "{\"time\": \"2014-07-05T20:03:38.900000Z\",\"tempish_py\": 23.16284423934961,\"humish_py\": 36.232257201597854}\n",
      "{\"time\": \"2014-07-05T20:03:39.000000Z\",\"tempish_py\": 13.608411393736901,\"humish_py\": 34.56832264902213}\n",
      "{\"time\": \"2014-07-05T20:03:39.100000Z\",\"tempish_py\": 12.295432810139484,\"humish_py\": 49.063579768113286}\n",
      "{\"time\": \"2014-07-05T20:03:39.200000Z\",\"tempish_py\": 15.815662498047795,\"humish_py\": 39.1728736962783}\n",
      "{\"time\": \"2014-07-05T20:03:39.300000Z\",\"tempish_py\": 21.617861855738262,\"humish_py\": 32.440279380693234}\n",
      "{\"time\": \"2014-07-05T20:03:39.400000Z\",\"tempish_py\": 14.069056353555562,\"humish_py\": 35.15264849636824}\n",
      "{\"time\": \"2014-07-05T20:03:39.500000Z\",\"tempish_py\": 17.948122012250355,\"humish_py\": 38.690337042604426}\n",
      "{\"time\": \"2014-07-05T20:03:39.600000Z\",\"tempish_py\": 19.577096235980434,\"humish_py\": 32.90359063687664}\n",
      "{\"time\": \"2014-07-05T20:03:39.700000Z\",\"tempish_py\": 16.638144000084072,\"humish_py\": 32.77746678275403}\n",
      "{\"time\": \"2014-07-05T20:03:39.800000Z\",\"tempish_py\": 18.84358713610561,\"humish_py\": 35.60097629429213}\n",
      "{\"time\": \"2014-07-05T20:03:39.900000Z\",\"tempish_py\": 10.578604235174488,\"humish_py\": 33.732470242757465}\n",
      "{\"time\": \"2014-07-05T20:03:40.000000Z\",\"tempish_py\": 23.898767808071213,\"humish_py\": 45.08587444179114}\n",
      "{\"time\": \"2014-07-05T20:03:40.100000Z\",\"tempish_py\": 12.431610401849657,\"humish_py\": 37.36595218391386}\n",
      "{\"time\": \"2014-07-05T20:03:40.200000Z\",\"tempish_py\": 18.651320602473177,\"humish_py\": 35.53522712018883}\n",
      "{\"time\": \"2014-07-05T20:03:40.300000Z\",\"tempish_py\": 20.85489559264554,\"humish_py\": 45.588866755572305}\n",
      "{\"time\": \"2014-07-05T20:03:40.400000Z\",\"tempish_py\": 18.8227526996514,\"humish_py\": 43.285953192051075}\n",
      "{\"time\": \"2014-07-05T20:03:40.500000Z\",\"tempish_py\": 20.627502562279687,\"humish_py\": 37.49096730877858}\n",
      "{\"time\": \"2014-07-05T20:03:40.600000Z\",\"tempish_py\": 14.314933397338633,\"humish_py\": 43.54656540225703}\n",
      "{\"time\": \"2014-07-05T20:03:40.700000Z\",\"tempish_py\": 21.656005141224853,\"humish_py\": 35.53214731901282}\n",
      "{\"time\": \"2014-07-05T20:03:40.800000Z\",\"tempish_py\": 11.936669546858184,\"humish_py\": 47.61377324257932}\n",
      "{\"time\": \"2014-07-05T20:03:40.900000Z\",\"tempish_py\": 12.876289127091432,\"humish_py\": 49.34349218153521}\n",
      "{\"time\": \"2014-07-05T20:03:41.000000Z\",\"tempish_py\": 16.53104225050044,\"humish_py\": 47.865729484056445}\n",
      "{\"time\": \"2014-07-05T20:03:41.100000Z\",\"tempish_py\": 10.034263647898603,\"humish_py\": 33.60991166703171}\n",
      "{\"time\": \"2014-07-05T20:03:41.200000Z\",\"tempish_py\": 15.980297955564584,\"humish_py\": 43.65168665622753}\n",
      "{\"time\": \"2014-07-05T20:03:41.300000Z\",\"tempish_py\": 20.381469079164432,\"humish_py\": 35.65385154179497}\n",
      "{\"time\": \"2014-07-05T20:03:41.400000Z\",\"tempish_py\": 19.03741960808231,\"humish_py\": 36.52191283586804}\n",
      "{\"time\": \"2014-07-05T20:03:41.500000Z\",\"tempish_py\": 23.295447308253795,\"humish_py\": 35.79309781300838}\n",
      "{\"time\": \"2014-07-05T20:03:41.600000Z\",\"tempish_py\": 19.33399093747515,\"humish_py\": 46.693669862233705}\n",
      "{\"time\": \"2014-07-05T20:03:41.700000Z\",\"tempish_py\": 18.062921952799883,\"humish_py\": 43.28145146133153}\n",
      "{\"time\": \"2014-07-05T20:03:41.800000Z\",\"tempish_py\": 12.709003700474696,\"humish_py\": 45.24560783820415}\n",
      "{\"time\": \"2014-07-05T20:03:41.900000Z\",\"tempish_py\": 17.25241424381658,\"humish_py\": 42.69872589857588}\n",
      "{\"time\": \"2014-07-05T20:03:42.000000Z\",\"tempish_py\": 20.875774626342306,\"humish_py\": 36.38132896051934}\n",
      "{\"time\": \"2014-07-05T20:03:42.100000Z\",\"tempish_py\": 21.587283947661355,\"humish_py\": 30.594591544550582}\n",
      "{\"time\": \"2014-07-05T20:03:42.200000Z\",\"tempish_py\": 19.63101079428303,\"humish_py\": 45.63265287688295}\n",
      "{\"time\": \"2014-07-05T20:03:42.300000Z\",\"tempish_py\": 11.63592361044454,\"humish_py\": 37.730258549890024}\n",
      "{\"time\": \"2014-07-05T20:03:42.400000Z\",\"tempish_py\": 17.37144625363613,\"humish_py\": 37.08600226762739}\n",
      "{\"time\": \"2014-07-05T20:03:42.500000Z\",\"tempish_py\": 11.289740042478387,\"humish_py\": 34.518592031648915}\n",
      "{\"time\": \"2014-07-05T20:03:42.600000Z\",\"tempish_py\": 17.8468790043364,\"humish_py\": 49.31447005177444}\n",
      "{\"time\": \"2014-07-05T20:03:42.700000Z\",\"tempish_py\": 22.828575459753072,\"humish_py\": 36.60048921603439}\n",
      "{\"time\": \"2014-07-05T20:03:42.800000Z\",\"tempish_py\": 10.285023940650557,\"humish_py\": 41.92040519634899}\n",
      "{\"time\": \"2014-07-05T20:03:42.900000Z\",\"tempish_py\": 22.71219850919038,\"humish_py\": 47.62096362263527}\n"
     ]
    }
   ],
   "source": [
    "TEMPERATURE_py = 10.0\n",
    "HUMIDITY_py = 30\n",
    "\n",
    "for n in range(50):\n",
    "    time.sleep(0.1)\n",
    "    dt_now = datetime.now(tz=timezone.utc)\n",
    "    dt_ts = datetime.fromtimestamp(1404590618.0+(0.1*n), tz=timezone.utc)\n",
    "    timestamp=dt_ts.strftime(\"%Y-%m-%dT%H:%M:%S.%fZ\")\n",
    "    temperature_py = TEMPERATURE_py + (random.random() * 15)\n",
    "    humidity_py = HUMIDITY_py + (random.random() * 20)\n",
    "    msg_txt_formatted = MSG_TXT.format(timestamp=timestamp, temperature_py=temperature_py, humidity_py=humidity_py)\n",
    "    print(msg_txt_formatted)\n",
    "    message = Message(msg_txt_formatted)\n",
    "    client.send_message(message)"
   ]
  },
  {
   "cell_type": "code",
   "execution_count": null,
   "metadata": {},
   "outputs": [],
   "source": [
    "print(msg_txt_formatted)"
   ]
  },
  {
   "cell_type": "code",
   "execution_count": null,
   "metadata": {},
   "outputs": [],
   "source": []
  }
 ],
 "metadata": {
  "kernelspec": {
   "display_name": "Python 3",
   "language": "python",
   "name": "python3"
  },
  "language_info": {
   "codemirror_mode": {
    "name": "ipython",
    "version": 3
   },
   "file_extension": ".py",
   "mimetype": "text/x-python",
   "name": "python",
   "nbconvert_exporter": "python",
   "pygments_lexer": "ipython3",
   "version": "3.7.9"
  }
 },
 "nbformat": 4,
 "nbformat_minor": 4
}
